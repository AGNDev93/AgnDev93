{
  "nbformat": 4,
  "nbformat_minor": 0,
  "metadata": {
    "colab": {
      "provenance": [],
      "authorship_tag": "ABX9TyPUSaSccCTDU3j1+wHJ0JB3",
      "include_colab_link": true
    },
    "kernelspec": {
      "name": "python3",
      "display_name": "Python 3"
    },
    "language_info": {
      "name": "python"
    }
  },
  "cells": [
    {
      "cell_type": "markdown",
      "metadata": {
        "id": "view-in-github",
        "colab_type": "text"
      },
      "source": [
        "<a href=\"https://colab.research.google.com/github/AGNDev93/AgnDev93/blob/main/Ejercicio%20Red%20Neuronal%20Python/Tensorflow.ipynb\" target=\"_parent\"><img src=\"https://colab.research.google.com/assets/colab-badge.svg\" alt=\"Open In Colab\"/></a>"
      ]
    },
    {
      "cell_type": "code",
      "execution_count": 8,
      "metadata": {
        "colab": {
          "base_uri": "https://localhost:8080/"
        },
        "id": "70rjqc291Axc",
        "outputId": "32f45513-fda4-45d2-9e98-3865f0bd5979"
      },
      "outputs": [
        {
          "output_type": "stream",
          "name": "stderr",
          "text": [
            "/usr/local/lib/python3.11/dist-packages/keras/src/layers/core/dense.py:87: UserWarning: Do not pass an `input_shape`/`input_dim` argument to a layer. When using Sequential models, prefer using an `Input(shape)` object as the first layer in the model instead.\n",
            "  super().__init__(activity_regularizer=activity_regularizer, **kwargs)\n"
          ]
        },
        {
          "output_type": "stream",
          "name": "stdout",
          "text": [
            "\u001b[1m1/1\u001b[0m \u001b[32m━━━━━━━━━━━━━━━━━━━━\u001b[0m\u001b[37m\u001b[0m \u001b[1m0s\u001b[0m 64ms/step\n",
            "Predicción de y=2x+1 para x=8: 17.22\n"
          ]
        }
      ],
      "source": [
        "import tensorflow as tf\n",
        "import numpy as np\n",
        "\n",
        "#Datos de ejemplo (Eventos pasados)\n",
        "\n",
        "x_train= np.array([[5],[8],[3]],dtype=float)\n",
        "y_train=np.array([[11],[17], [7]],dtype=float)\n",
        "\n",
        "#Crear modelo\n",
        "\n",
        "model=tf.keras.Sequential ([tf.keras.layers.Dense (units=1, input_shape=[1])])\n",
        "\n",
        "#Compilar modelo\n",
        "\n",
        "model.compile(optimizer='sgd', loss='mean_squared_error')\n",
        "\n",
        "#Entrenar\n",
        "\n",
        "model.fit(x_train, y_train, epochs=100, verbose=0)\n",
        "\n",
        "#Probar modelo\n",
        "\n",
        "resultado=model.predict(np.array ([[8]]))\n",
        "print(f\"Predicción de y=2x+1 para x=8: {resultado[0][0]:.2f}\")\n",
        "\n"
      ]
    }
  ]
}